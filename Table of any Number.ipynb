{
 "cells": [
  {
   "cell_type": "code",
   "execution_count": 6,
   "metadata": {},
   "outputs": [
    {
     "name": "stdout",
     "output_type": "stream",
     "text": [
      "Enter Number whose table you want to print:89\n",
      "89 * 1 = 89\n",
      "89 * 2 = 178\n",
      "89 * 3 = 267\n",
      "89 * 4 = 356\n",
      "89 * 5 = 445\n",
      "89 * 6 = 534\n",
      "89 * 7 = 623\n",
      "89 * 8 = 712\n",
      "89 * 9 = 801\n",
      "89 * 10 = 890\n"
     ]
    }
   ],
   "source": [
    "#Testing First Python Code\n",
    "\n",
    "num = int(input(\"Enter Number whose table you want to print:\"))\n",
    "for i in range (1,11):\n",
    "    print ('%d * %d = %d' % (num,i,num*i))\n",
    "    "
   ]
  },
  {
   "cell_type": "code",
   "execution_count": null,
   "metadata": {},
   "outputs": [],
   "source": []
  }
 ],
 "metadata": {
  "kernelspec": {
   "display_name": "Python 3",
   "language": "python",
   "name": "python3"
  },
  "language_info": {
   "codemirror_mode": {
    "name": "ipython",
    "version": 3
   },
   "file_extension": ".py",
   "mimetype": "text/x-python",
   "name": "python",
   "nbconvert_exporter": "python",
   "pygments_lexer": "ipython3",
   "version": "3.6.5"
  }
 },
 "nbformat": 4,
 "nbformat_minor": 2
}
