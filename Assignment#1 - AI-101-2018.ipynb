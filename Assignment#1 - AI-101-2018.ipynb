{
 "cells": [
  {
   "cell_type": "code",
   "execution_count": 5,
   "metadata": {},
   "outputs": [
    {
     "name": "stdout",
     "output_type": "stream",
     "text": [
      "Enter Name of the Student= abs\n",
      "Enter Marks Obtained in Mathematics= 2\n",
      "Enter Marks Obtained in Physics= 2\n",
      "Enter Marks Obtained in Chemistry= 2\n",
      "Enter Marks Obtained in English= 2\n",
      "Enter Marks Obtained in urdu= 2\n"
     ]
    }
   ],
   "source": [
    "#Gathering the required Input from User\n",
    "stud_name = input (\"Enter Name of the Student= \")\n",
    "maths = int(input(\"Enter Marks Obtained in Mathematics= \"))\n",
    "physics = int(input(\"Enter Marks Obtained in Physics= \"))\n",
    "chem = int(input(\"Enter Marks Obtained in Chemistry= \"))\n",
    "eng = int(input(\"Enter Marks Obtained in English= \"))\n",
    "urdu = int(input(\"Enter Marks Obtained in urdu= \"))"
   ]
  },
  {
   "cell_type": "code",
   "execution_count": 2,
   "metadata": {},
   "outputs": [
    {
     "name": "stdout",
     "output_type": "stream",
     "text": [
      "486\n",
      "97\n"
     ]
    }
   ],
   "source": [
    "#Calculating total and percentage\n",
    "total = maths+physics+chem+urdu+eng\n",
    "print(total)\n",
    "per= int((total/500)*100)\n",
    "print (per)"
   ]
  },
  {
   "cell_type": "code",
   "execution_count": 3,
   "metadata": {},
   "outputs": [],
   "source": [
    "#Finding the grade\n",
    "if per >=80:\n",
    "    grade = \"A-1\"\n",
    "elif per >=70 and per <80:\n",
    "    grade = \"A\"\n",
    "elif per >=60 and per <70:\n",
    "    grade = \"B\"\n",
    "elif per >=50 and per <60:\n",
    "    grade = \"C\"\n",
    "elif per >=40 and per <50:\n",
    "    grade = \"D\"\n",
    "elif per >=33 and per <40:\n",
    "    grade = \"E\"\n",
    "else:\n",
    "    grade = \"F\""
   ]
  },
  {
   "cell_type": "code",
   "execution_count": 10,
   "metadata": {},
   "outputs": [
    {
     "name": "stdout",
     "output_type": "stream",
     "text": [
      "************************************************\n",
      "Printing the marksheet of Students\n",
      "Name of Student:abs\n",
      "Marks in Mathematics = 2\n",
      "Marks in Mathematics = 2\n",
      "Marks in Mathematics = 2\n",
      "Marks in Mathematics = 2\n",
      "Marks in Mathematics = 2\n",
      "Total Marks Obtained = 486\n",
      "Total Marks  = 500\n",
      "Percentage = 97\n",
      "grade= A-1\n"
     ]
    }
   ],
   "source": [
    "#Printing the Marksheet\n",
    "print (\"************************************************\")\n",
    "print (\"Printing the marksheet of Students\")\n",
    "print (\"Name of Student:{}\".format(stud_name))\n",
    "print (\"Marks in Mathematics = {}\".format(maths))\n",
    "print (\"Marks in Mathematics = {}\".format(physics))\n",
    "print (\"Marks in Mathematics = {}\".format(chem))\n",
    "print (\"Marks in Mathematics = {}\".format(urdu))\n",
    "print (\"Marks in Mathematics = {}\".format(eng))\n",
    "print (\"Total Marks Obtained = {}\".format(total))\n",
    "print (\"Total Marks  = 500\")\n",
    "print (\"Percentage = {}\".format(per))\n",
    "print (\"grade= {}\".format(grade))"
   ]
  },
  {
   "cell_type": "code",
   "execution_count": null,
   "metadata": {},
   "outputs": [],
   "source": []
  }
 ],
 "metadata": {
  "kernelspec": {
   "display_name": "Python 3",
   "language": "python",
   "name": "python3"
  },
  "language_info": {
   "codemirror_mode": {
    "name": "ipython",
    "version": 3
   },
   "file_extension": ".py",
   "mimetype": "text/x-python",
   "name": "python",
   "nbconvert_exporter": "python",
   "pygments_lexer": "ipython3",
   "version": "3.6.5"
  }
 },
 "nbformat": 4,
 "nbformat_minor": 2
}
